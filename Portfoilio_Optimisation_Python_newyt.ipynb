{
 "cells": [
  {
   "cell_type": "code",
   "execution_count": 1,
   "id": "bcea9188",
   "metadata": {},
   "outputs": [
    {
     "name": "stdout",
     "output_type": "stream",
     "text": [
      "Collecting yfinance\n",
      "  Downloading yfinance-0.1.74-py2.py3-none-any.whl (27 kB)\n",
      "Requirement already satisfied: pandas>=0.24.0 in /opt/conda/lib/python3.9/site-packages (from yfinance) (1.3.3)\n",
      "Requirement already satisfied: lxml>=4.5.1 in /opt/conda/lib/python3.9/site-packages (from yfinance) (4.6.3)\n",
      "Requirement already satisfied: numpy>=1.15 in /opt/conda/lib/python3.9/site-packages (from yfinance) (1.20.3)\n",
      "Requirement already satisfied: requests>=2.26 in /opt/conda/lib/python3.9/site-packages (from yfinance) (2.26.0)\n",
      "Collecting multitasking>=0.0.7\n",
      "  Downloading multitasking-0.0.11-py3-none-any.whl (8.5 kB)\n",
      "Requirement already satisfied: python-dateutil>=2.7.3 in /opt/conda/lib/python3.9/site-packages (from pandas>=0.24.0->yfinance) (2.8.2)\n",
      "Requirement already satisfied: pytz>=2017.3 in /opt/conda/lib/python3.9/site-packages (from pandas>=0.24.0->yfinance) (2021.1)\n",
      "Requirement already satisfied: six>=1.5 in /opt/conda/lib/python3.9/site-packages (from python-dateutil>=2.7.3->pandas>=0.24.0->yfinance) (1.16.0)\n",
      "Requirement already satisfied: idna<4,>=2.5 in /opt/conda/lib/python3.9/site-packages (from requests>=2.26->yfinance) (3.1)\n",
      "Requirement already satisfied: certifi>=2017.4.17 in /opt/conda/lib/python3.9/site-packages (from requests>=2.26->yfinance) (2021.5.30)\n",
      "Requirement already satisfied: urllib3<1.27,>=1.21.1 in /opt/conda/lib/python3.9/site-packages (from requests>=2.26->yfinance) (1.26.7)\n",
      "Requirement already satisfied: charset-normalizer~=2.0.0 in /opt/conda/lib/python3.9/site-packages (from requests>=2.26->yfinance) (2.0.0)\n",
      "Installing collected packages: multitasking, yfinance\n",
      "Successfully installed multitasking-0.0.11 yfinance-0.1.74\n"
     ]
    }
   ],
   "source": [
    "!pip install yfinance\n",
    "import yfinance as yf"
   ]
  },
  {
   "cell_type": "code",
   "execution_count": 2,
   "id": "677e5f3f",
   "metadata": {},
   "outputs": [],
   "source": [
    "import numpy as np"
   ]
  },
  {
   "cell_type": "code",
   "execution_count": 3,
   "id": "a693191d",
   "metadata": {},
   "outputs": [
    {
     "name": "stdout",
     "output_type": "stream",
     "text": [
      "[*********************100%***********************]  10 of 10 completed\n"
     ]
    }
   ],
   "source": [
    "df = yf.download(['BRITANNIA.BO', 'EICHERMOT.NS','BAJFINANCE.NS','BERGEPAINT.NS','HAVELLS.NS','PIDILITIND.NS','HDFCBANK.NS','ADANIPOWER.NS','TITAN.NS','HCLTECH.NS'],start=\"2012-04-02\",end=\"2022-04-13\")\n"
   ]
  },
  {
   "cell_type": "code",
   "execution_count": 4,
   "id": "73221708",
   "metadata": {},
   "outputs": [
    {
     "name": "stdout",
     "output_type": "stream",
     "text": [
      "               Adj Close                                           \\\n",
      "           ADANIPOWER.NS BAJFINANCE.NS BERGEPAINT.NS BRITANNIA.BO   \n",
      "Date                                                                \n",
      "2012-04-02     68.599998     76.982635     35.655056   251.028656   \n",
      "2012-04-03     70.500000     79.694145     38.158039   254.931885   \n",
      "2012-04-04     72.500000     80.722481     38.655312   254.931885   \n",
      "2012-04-09     71.550003     79.827873     38.290646   255.124924   \n",
      "2012-04-10     72.599998     80.053833     37.428688   253.580826   \n",
      "...                  ...           ...           ...          ...   \n",
      "2022-04-06    244.750000   7320.296387    723.653931  3178.652344   \n",
      "2022-04-07    232.550003   7263.751953    720.667114  3187.750244   \n",
      "2022-04-08    220.949997   7339.875000    731.369812  3240.645508   \n",
      "2022-04-11    231.600006   7310.033203    728.880798  3240.936035   \n",
      "2022-04-12    230.800003   7248.108887    719.123901  3237.596680   \n",
      "\n",
      "                                                                              \\\n",
      "           EICHERMOT.NS   HAVELLS.NS   HCLTECH.NS  HDFCBANK.NS PIDILITIND.NS   \n",
      "Date                                                                           \n",
      "2012-04-02   183.711044   106.395561   102.160179   244.461502    160.288040   \n",
      "2012-04-03   185.805450   105.180443   103.005989   245.317505    155.085999   \n",
      "2012-04-04   191.329483   103.518555   103.749893   243.628662    153.274582   \n",
      "2012-04-09   186.682495   102.902061   101.558937   241.407745    157.315460   \n",
      "2012-04-10   189.335403   103.697250   100.071129   242.842056    157.640610   \n",
      "...                 ...          ...          ...          ...           ...   \n",
      "2022-04-06  2513.968994  1246.693848  1138.481812  1533.025513   2518.708984   \n",
      "2022-04-07  2521.618164  1244.054688  1141.205200  1499.317383   2482.415283   \n",
      "2022-04-08  2538.307129  1262.727539  1133.472656  1497.241577   2514.327637   \n",
      "2022-04-11  2528.770752  1269.947632  1102.493896  1478.954224   2438.653564   \n",
      "2022-04-12  2505.127930  1250.627686  1100.208252  1476.334595   2365.518311   \n",
      "\n",
      "                         ...        Volume                              \\\n",
      "               TITAN.NS  ... ADANIPOWER.NS BAJFINANCE.NS BERGEPAINT.NS   \n",
      "Date                     ...                                             \n",
      "2012-04-02   226.928909  ...       4966723        128779        112904   \n",
      "2012-04-03   231.508591  ...       4638485        199550       1219050   \n",
      "2012-04-04   232.957291  ...       6799530        160439       1566986   \n",
      "2012-04-09   226.695251  ...       2993760         66016        278070   \n",
      "2012-04-10   227.863525  ...       2690000         51390        498044   \n",
      "...                 ...  ...           ...           ...           ...   \n",
      "2022-04-06  2531.095703  ...      54655056        767031        367142   \n",
      "2022-04-07  2449.683838  ...      29413380        718266        558875   \n",
      "2022-04-08  2501.101807  ...       2736278        881973        278519   \n",
      "2022-04-11  2481.072754  ...      61868038        597508        306973   \n",
      "2022-04-12  2479.428467  ...      42554718        805598        498942   \n",
      "\n",
      "                                                                        \\\n",
      "           BRITANNIA.BO EICHERMOT.NS HAVELLS.NS HCLTECH.NS HDFCBANK.NS   \n",
      "Date                                                                     \n",
      "2012-04-02        39938      1172620    2331865    3030536     2765466   \n",
      "2012-04-03        45852       265260    1818510    1730140     6460406   \n",
      "2012-04-04            0       420740    1379980    2006100     2087538   \n",
      "2012-04-09       813772       758190    1071140    2460700     2518370   \n",
      "2012-04-10         3692       465270     782535    1837152     2917036   \n",
      "...                 ...          ...        ...        ...         ...   \n",
      "2022-04-06         7201       469837     845250    2838968    13513930   \n",
      "2022-04-07        32674       451071    1208629    3391918    20390866   \n",
      "2022-04-08         6545       800707     741622    2656091    20628161   \n",
      "2022-04-11        11885       332108     759966    5679058    10399533   \n",
      "2022-04-12        17146       359805     844897    2906617    13717701   \n",
      "\n",
      "                                   \n",
      "           PIDILITIND.NS TITAN.NS  \n",
      "Date                               \n",
      "2012-04-02         52247  5694452  \n",
      "2012-04-03        315790  3093349  \n",
      "2012-04-04        197968  3753999  \n",
      "2012-04-09         35776  1948251  \n",
      "2012-04-10         56524  1877868  \n",
      "...                  ...      ...  \n",
      "2022-04-06        255433  1349078  \n",
      "2022-04-07        345464  2785215  \n",
      "2022-04-08        257868  1217812  \n",
      "2022-04-11        690328   660112  \n",
      "2022-04-12        823170  1182427  \n",
      "\n",
      "[2472 rows x 60 columns]\n"
     ]
    }
   ],
   "source": [
    "print(df)"
   ]
  },
  {
   "cell_type": "code",
   "execution_count": 5,
   "id": "fd3d8ce5",
   "metadata": {},
   "outputs": [],
   "source": [
    "df = np.log(1+ df['Adj Close'].pct_change())"
   ]
  },
  {
   "cell_type": "code",
   "execution_count": 6,
   "id": "a966fb7c",
   "metadata": {},
   "outputs": [
    {
     "name": "stdout",
     "output_type": "stream",
     "text": [
      "            ADANIPOWER.NS  BAJFINANCE.NS  BERGEPAINT.NS  BRITANNIA.BO  \\\n",
      "Date                                                                    \n",
      "2012-04-02            NaN            NaN            NaN           NaN   \n",
      "2012-04-03       0.027320       0.034616       0.067845      0.015429   \n",
      "2012-04-04       0.027974       0.012821       0.012948      0.000000   \n",
      "2012-04-09      -0.013190      -0.011144      -0.009479      0.000757   \n",
      "2012-04-10       0.014568       0.002827      -0.022768     -0.006071   \n",
      "...                   ...            ...            ...           ...   \n",
      "2022-04-06       0.048770      -0.005633       0.003998     -0.005315   \n",
      "2022-04-07      -0.051132      -0.007754      -0.004136      0.002858   \n",
      "2022-04-08      -0.051169       0.010425       0.014742      0.016457   \n",
      "2022-04-11       0.047075      -0.004074      -0.003409      0.000090   \n",
      "2022-04-12      -0.003460      -0.008507      -0.013477     -0.001031   \n",
      "\n",
      "            EICHERMOT.NS  HAVELLS.NS  HCLTECH.NS  HDFCBANK.NS  PIDILITIND.NS  \\\n",
      "Date                                                                           \n",
      "2012-04-02           NaN         NaN         NaN          NaN            NaN   \n",
      "2012-04-03      0.011336   -0.011486    0.008245     0.003495      -0.032993   \n",
      "2012-04-04      0.029297   -0.015927    0.007196    -0.006908      -0.011749   \n",
      "2012-04-09     -0.024588   -0.005973   -0.021344    -0.009158       0.026022   \n",
      "2012-04-10      0.014111    0.007698   -0.014758     0.005924       0.002065   \n",
      "...                  ...         ...         ...          ...            ...   \n",
      "2022-04-06     -0.005026   -0.005417   -0.021092    -0.036343       0.008695   \n",
      "2022-04-07      0.003038   -0.002119    0.002389    -0.022233      -0.014514   \n",
      "2022-04-08      0.006597    0.014898   -0.006799    -0.001385       0.012773   \n",
      "2022-04-11     -0.003764    0.005702   -0.027711    -0.012289      -0.030559   \n",
      "2022-04-12     -0.009394   -0.015330   -0.002075    -0.001773      -0.030449   \n",
      "\n",
      "            TITAN.NS  \n",
      "Date                  \n",
      "2012-04-02       NaN  \n",
      "2012-04-03  0.019980  \n",
      "2012-04-04  0.006238  \n",
      "2012-04-09 -0.027249  \n",
      "2012-04-10  0.005140  \n",
      "...              ...  \n",
      "2022-04-06 -0.003596  \n",
      "2022-04-07 -0.032693  \n",
      "2022-04-08  0.020772  \n",
      "2022-04-11 -0.008040  \n",
      "2022-04-12 -0.000663  \n",
      "\n",
      "[2472 rows x 10 columns]\n"
     ]
    }
   ],
   "source": [
    "print(df)"
   ]
  },
  {
   "cell_type": "code",
   "execution_count": 7,
   "id": "07055eef",
   "metadata": {},
   "outputs": [
    {
     "data": {
      "text/html": [
       "<div>\n",
       "<style scoped>\n",
       "    .dataframe tbody tr th:only-of-type {\n",
       "        vertical-align: middle;\n",
       "    }\n",
       "\n",
       "    .dataframe tbody tr th {\n",
       "        vertical-align: top;\n",
       "    }\n",
       "\n",
       "    .dataframe thead th {\n",
       "        text-align: right;\n",
       "    }\n",
       "</style>\n",
       "<table border=\"1\" class=\"dataframe\">\n",
       "  <thead>\n",
       "    <tr style=\"text-align: right;\">\n",
       "      <th></th>\n",
       "      <th>ADANIPOWER.NS</th>\n",
       "      <th>BAJFINANCE.NS</th>\n",
       "      <th>BERGEPAINT.NS</th>\n",
       "      <th>BRITANNIA.BO</th>\n",
       "      <th>EICHERMOT.NS</th>\n",
       "      <th>HAVELLS.NS</th>\n",
       "      <th>HCLTECH.NS</th>\n",
       "      <th>HDFCBANK.NS</th>\n",
       "      <th>PIDILITIND.NS</th>\n",
       "      <th>TITAN.NS</th>\n",
       "    </tr>\n",
       "    <tr>\n",
       "      <th>Date</th>\n",
       "      <th></th>\n",
       "      <th></th>\n",
       "      <th></th>\n",
       "      <th></th>\n",
       "      <th></th>\n",
       "      <th></th>\n",
       "      <th></th>\n",
       "      <th></th>\n",
       "      <th></th>\n",
       "      <th></th>\n",
       "    </tr>\n",
       "  </thead>\n",
       "  <tbody>\n",
       "    <tr>\n",
       "      <th>2012-04-02</th>\n",
       "      <td>NaN</td>\n",
       "      <td>NaN</td>\n",
       "      <td>NaN</td>\n",
       "      <td>NaN</td>\n",
       "      <td>NaN</td>\n",
       "      <td>NaN</td>\n",
       "      <td>NaN</td>\n",
       "      <td>NaN</td>\n",
       "      <td>NaN</td>\n",
       "      <td>NaN</td>\n",
       "    </tr>\n",
       "    <tr>\n",
       "      <th>2012-04-03</th>\n",
       "      <td>0.027320</td>\n",
       "      <td>0.034616</td>\n",
       "      <td>0.067845</td>\n",
       "      <td>0.015429</td>\n",
       "      <td>0.011336</td>\n",
       "      <td>-0.011486</td>\n",
       "      <td>0.008245</td>\n",
       "      <td>0.003495</td>\n",
       "      <td>-0.032993</td>\n",
       "      <td>0.019980</td>\n",
       "    </tr>\n",
       "    <tr>\n",
       "      <th>2012-04-04</th>\n",
       "      <td>0.027974</td>\n",
       "      <td>0.012821</td>\n",
       "      <td>0.012948</td>\n",
       "      <td>0.000000</td>\n",
       "      <td>0.029297</td>\n",
       "      <td>-0.015927</td>\n",
       "      <td>0.007196</td>\n",
       "      <td>-0.006908</td>\n",
       "      <td>-0.011749</td>\n",
       "      <td>0.006238</td>\n",
       "    </tr>\n",
       "    <tr>\n",
       "      <th>2012-04-09</th>\n",
       "      <td>-0.013190</td>\n",
       "      <td>-0.011144</td>\n",
       "      <td>-0.009479</td>\n",
       "      <td>0.000757</td>\n",
       "      <td>-0.024588</td>\n",
       "      <td>-0.005973</td>\n",
       "      <td>-0.021344</td>\n",
       "      <td>-0.009158</td>\n",
       "      <td>0.026022</td>\n",
       "      <td>-0.027249</td>\n",
       "    </tr>\n",
       "    <tr>\n",
       "      <th>2012-04-10</th>\n",
       "      <td>0.014568</td>\n",
       "      <td>0.002827</td>\n",
       "      <td>-0.022768</td>\n",
       "      <td>-0.006071</td>\n",
       "      <td>0.014111</td>\n",
       "      <td>0.007698</td>\n",
       "      <td>-0.014758</td>\n",
       "      <td>0.005924</td>\n",
       "      <td>0.002065</td>\n",
       "      <td>0.005140</td>\n",
       "    </tr>\n",
       "    <tr>\n",
       "      <th>...</th>\n",
       "      <td>...</td>\n",
       "      <td>...</td>\n",
       "      <td>...</td>\n",
       "      <td>...</td>\n",
       "      <td>...</td>\n",
       "      <td>...</td>\n",
       "      <td>...</td>\n",
       "      <td>...</td>\n",
       "      <td>...</td>\n",
       "      <td>...</td>\n",
       "    </tr>\n",
       "    <tr>\n",
       "      <th>2022-04-06</th>\n",
       "      <td>0.048770</td>\n",
       "      <td>-0.005633</td>\n",
       "      <td>0.003998</td>\n",
       "      <td>-0.005315</td>\n",
       "      <td>-0.005026</td>\n",
       "      <td>-0.005417</td>\n",
       "      <td>-0.021092</td>\n",
       "      <td>-0.036343</td>\n",
       "      <td>0.008695</td>\n",
       "      <td>-0.003596</td>\n",
       "    </tr>\n",
       "    <tr>\n",
       "      <th>2022-04-07</th>\n",
       "      <td>-0.051132</td>\n",
       "      <td>-0.007754</td>\n",
       "      <td>-0.004136</td>\n",
       "      <td>0.002858</td>\n",
       "      <td>0.003038</td>\n",
       "      <td>-0.002119</td>\n",
       "      <td>0.002389</td>\n",
       "      <td>-0.022233</td>\n",
       "      <td>-0.014514</td>\n",
       "      <td>-0.032693</td>\n",
       "    </tr>\n",
       "    <tr>\n",
       "      <th>2022-04-08</th>\n",
       "      <td>-0.051169</td>\n",
       "      <td>0.010425</td>\n",
       "      <td>0.014742</td>\n",
       "      <td>0.016457</td>\n",
       "      <td>0.006597</td>\n",
       "      <td>0.014898</td>\n",
       "      <td>-0.006799</td>\n",
       "      <td>-0.001385</td>\n",
       "      <td>0.012773</td>\n",
       "      <td>0.020772</td>\n",
       "    </tr>\n",
       "    <tr>\n",
       "      <th>2022-04-11</th>\n",
       "      <td>0.047075</td>\n",
       "      <td>-0.004074</td>\n",
       "      <td>-0.003409</td>\n",
       "      <td>0.000090</td>\n",
       "      <td>-0.003764</td>\n",
       "      <td>0.005702</td>\n",
       "      <td>-0.027711</td>\n",
       "      <td>-0.012289</td>\n",
       "      <td>-0.030559</td>\n",
       "      <td>-0.008040</td>\n",
       "    </tr>\n",
       "    <tr>\n",
       "      <th>2022-04-12</th>\n",
       "      <td>-0.003460</td>\n",
       "      <td>-0.008507</td>\n",
       "      <td>-0.013477</td>\n",
       "      <td>-0.001031</td>\n",
       "      <td>-0.009394</td>\n",
       "      <td>-0.015330</td>\n",
       "      <td>-0.002075</td>\n",
       "      <td>-0.001773</td>\n",
       "      <td>-0.030449</td>\n",
       "      <td>-0.000663</td>\n",
       "    </tr>\n",
       "  </tbody>\n",
       "</table>\n",
       "<p>2472 rows × 10 columns</p>\n",
       "</div>"
      ],
      "text/plain": [
       "            ADANIPOWER.NS  BAJFINANCE.NS  BERGEPAINT.NS  BRITANNIA.BO  \\\n",
       "Date                                                                    \n",
       "2012-04-02            NaN            NaN            NaN           NaN   \n",
       "2012-04-03       0.027320       0.034616       0.067845      0.015429   \n",
       "2012-04-04       0.027974       0.012821       0.012948      0.000000   \n",
       "2012-04-09      -0.013190      -0.011144      -0.009479      0.000757   \n",
       "2012-04-10       0.014568       0.002827      -0.022768     -0.006071   \n",
       "...                   ...            ...            ...           ...   \n",
       "2022-04-06       0.048770      -0.005633       0.003998     -0.005315   \n",
       "2022-04-07      -0.051132      -0.007754      -0.004136      0.002858   \n",
       "2022-04-08      -0.051169       0.010425       0.014742      0.016457   \n",
       "2022-04-11       0.047075      -0.004074      -0.003409      0.000090   \n",
       "2022-04-12      -0.003460      -0.008507      -0.013477     -0.001031   \n",
       "\n",
       "            EICHERMOT.NS  HAVELLS.NS  HCLTECH.NS  HDFCBANK.NS  PIDILITIND.NS  \\\n",
       "Date                                                                           \n",
       "2012-04-02           NaN         NaN         NaN          NaN            NaN   \n",
       "2012-04-03      0.011336   -0.011486    0.008245     0.003495      -0.032993   \n",
       "2012-04-04      0.029297   -0.015927    0.007196    -0.006908      -0.011749   \n",
       "2012-04-09     -0.024588   -0.005973   -0.021344    -0.009158       0.026022   \n",
       "2012-04-10      0.014111    0.007698   -0.014758     0.005924       0.002065   \n",
       "...                  ...         ...         ...          ...            ...   \n",
       "2022-04-06     -0.005026   -0.005417   -0.021092    -0.036343       0.008695   \n",
       "2022-04-07      0.003038   -0.002119    0.002389    -0.022233      -0.014514   \n",
       "2022-04-08      0.006597    0.014898   -0.006799    -0.001385       0.012773   \n",
       "2022-04-11     -0.003764    0.005702   -0.027711    -0.012289      -0.030559   \n",
       "2022-04-12     -0.009394   -0.015330   -0.002075    -0.001773      -0.030449   \n",
       "\n",
       "            TITAN.NS  \n",
       "Date                  \n",
       "2012-04-02       NaN  \n",
       "2012-04-03  0.019980  \n",
       "2012-04-04  0.006238  \n",
       "2012-04-09 -0.027249  \n",
       "2012-04-10  0.005140  \n",
       "...              ...  \n",
       "2022-04-06 -0.003596  \n",
       "2022-04-07 -0.032693  \n",
       "2022-04-08  0.020772  \n",
       "2022-04-11 -0.008040  \n",
       "2022-04-12 -0.000663  \n",
       "\n",
       "[2472 rows x 10 columns]"
      ]
     },
     "execution_count": 7,
     "metadata": {},
     "output_type": "execute_result"
    }
   ],
   "source": [
    "df"
   ]
  },
  {
   "cell_type": "code",
   "execution_count": 8,
   "id": "374c1c15",
   "metadata": {},
   "outputs": [
    {
     "data": {
      "text/plain": [
       "ADANIPOWER.NS    0.000491\n",
       "BAJFINANCE.NS    0.001839\n",
       "BERGEPAINT.NS    0.001216\n",
       "BRITANNIA.BO     0.001035\n",
       "EICHERMOT.NS     0.001057\n",
       "HAVELLS.NS       0.000997\n",
       "HCLTECH.NS       0.000962\n",
       "HDFCBANK.NS      0.000728\n",
       "PIDILITIND.NS    0.001089\n",
       "TITAN.NS         0.000968\n",
       "dtype: float64"
      ]
     },
     "execution_count": 8,
     "metadata": {},
     "output_type": "execute_result"
    }
   ],
   "source": [
    "df.mean()\n"
   ]
  },
  {
   "cell_type": "code",
   "execution_count": 9,
   "id": "34736ed8",
   "metadata": {},
   "outputs": [],
   "source": [
    "cov= df.cov()"
   ]
  },
  {
   "cell_type": "code",
   "execution_count": null,
   "id": "a42a8f51",
   "metadata": {},
   "outputs": [],
   "source": []
  },
  {
   "cell_type": "code",
   "execution_count": 10,
   "id": "f8c7cdfa",
   "metadata": {},
   "outputs": [],
   "source": [
    "def portfolioreturn(weights):\n",
    "    return np.dot(df.mean(),weights)"
   ]
  },
  {
   "cell_type": "code",
   "execution_count": 11,
   "id": "d5dbe42e",
   "metadata": {},
   "outputs": [],
   "source": [
    "def portfoliostd(weights):\n",
    "    return (np.dot(np.dot(cov,weights),weights))**(1/2)*np.sqrt(250)\n"
   ]
  },
  {
   "cell_type": "code",
   "execution_count": 12,
   "id": "36fa4df1",
   "metadata": {},
   "outputs": [],
   "source": [
    "def weightscreator(df):\n",
    "    rand=np.random.random(len(df.columns))\n",
    "    rand/= rand.sum() \n",
    "    return rand\n"
   ]
  },
  {
   "cell_type": "code",
   "execution_count": 43,
   "id": "bdd971fa",
   "metadata": {},
   "outputs": [],
   "source": [
    "returns = []\n",
    "stds = []\n",
    "w = []\n",
    "\n",
    "for i in range(10000):\n",
    "    weights = weightscreator(df)\n",
    "    returns.append(portfolioreturn(weights))\n",
    "    stds.append(portfoliostd(weights))\n",
    "    w.append(weights)   "
   ]
  },
  {
   "cell_type": "code",
   "execution_count": 44,
   "id": "6b7a43b7",
   "metadata": {},
   "outputs": [
    {
     "ename": "ValueError",
     "evalue": "Length mismatch: Expected axis has 10000 elements, new values have 1 elements",
     "output_type": "error",
     "traceback": [
      "\u001b[0;31m---------------------------------------------------------------------------\u001b[0m",
      "\u001b[0;31mValueError\u001b[0m                                Traceback (most recent call last)",
      "\u001b[0;32m/tmp/ipykernel_98/2017852666.py\u001b[0m in \u001b[0;36m<module>\u001b[0;34m\u001b[0m\n\u001b[1;32m      2\u001b[0m \u001b[0mdata\u001b[0m \u001b[0;34m=\u001b[0m \u001b[0;34m{\u001b[0m\u001b[0;34m\"Returns\"\u001b[0m\u001b[0;34m:\u001b[0m \u001b[0mreturns\u001b[0m\u001b[0;34m,\u001b[0m \u001b[0;34m\"Volatility\"\u001b[0m\u001b[0;34m:\u001b[0m\u001b[0mstds\u001b[0m\u001b[0;34m}\u001b[0m\u001b[0;34m\u001b[0m\u001b[0;34m\u001b[0m\u001b[0m\n\u001b[1;32m      3\u001b[0m \u001b[0mportfolios\u001b[0m\u001b[0;34m=\u001b[0m \u001b[0mpd\u001b[0m\u001b[0;34m.\u001b[0m\u001b[0mDataFrame\u001b[0m\u001b[0;34m(\u001b[0m\u001b[0mdata\u001b[0m\u001b[0;34m)\u001b[0m\u001b[0;34m\u001b[0m\u001b[0;34m\u001b[0m\u001b[0m\n\u001b[0;32m----> 4\u001b[0;31m \u001b[0mportfolios\u001b[0m\u001b[0;34m.\u001b[0m\u001b[0mindex\u001b[0m \u001b[0;34m=\u001b[0m \u001b[0;34m[\u001b[0m\u001b[0;34m'portfolio1'\u001b[0m\u001b[0;34m]\u001b[0m\u001b[0;34m\u001b[0m\u001b[0;34m\u001b[0m\u001b[0m\n\u001b[0m\u001b[1;32m      5\u001b[0m \u001b[0mportfolios\u001b[0m\u001b[0;34m\u001b[0m\u001b[0;34m\u001b[0m\u001b[0m\n",
      "\u001b[0;32m/opt/conda/lib/python3.9/site-packages/pandas/core/generic.py\u001b[0m in \u001b[0;36m__setattr__\u001b[0;34m(self, name, value)\u001b[0m\n\u001b[1;32m   5498\u001b[0m         \u001b[0;32mtry\u001b[0m\u001b[0;34m:\u001b[0m\u001b[0;34m\u001b[0m\u001b[0;34m\u001b[0m\u001b[0m\n\u001b[1;32m   5499\u001b[0m             \u001b[0mobject\u001b[0m\u001b[0;34m.\u001b[0m\u001b[0m__getattribute__\u001b[0m\u001b[0;34m(\u001b[0m\u001b[0mself\u001b[0m\u001b[0;34m,\u001b[0m \u001b[0mname\u001b[0m\u001b[0;34m)\u001b[0m\u001b[0;34m\u001b[0m\u001b[0;34m\u001b[0m\u001b[0m\n\u001b[0;32m-> 5500\u001b[0;31m             \u001b[0;32mreturn\u001b[0m \u001b[0mobject\u001b[0m\u001b[0;34m.\u001b[0m\u001b[0m__setattr__\u001b[0m\u001b[0;34m(\u001b[0m\u001b[0mself\u001b[0m\u001b[0;34m,\u001b[0m \u001b[0mname\u001b[0m\u001b[0;34m,\u001b[0m \u001b[0mvalue\u001b[0m\u001b[0;34m)\u001b[0m\u001b[0;34m\u001b[0m\u001b[0;34m\u001b[0m\u001b[0m\n\u001b[0m\u001b[1;32m   5501\u001b[0m         \u001b[0;32mexcept\u001b[0m \u001b[0mAttributeError\u001b[0m\u001b[0;34m:\u001b[0m\u001b[0;34m\u001b[0m\u001b[0;34m\u001b[0m\u001b[0m\n\u001b[1;32m   5502\u001b[0m             \u001b[0;32mpass\u001b[0m\u001b[0;34m\u001b[0m\u001b[0;34m\u001b[0m\u001b[0m\n",
      "\u001b[0;32m/opt/conda/lib/python3.9/site-packages/pandas/_libs/properties.pyx\u001b[0m in \u001b[0;36mpandas._libs.properties.AxisProperty.__set__\u001b[0;34m()\u001b[0m\n",
      "\u001b[0;32m/opt/conda/lib/python3.9/site-packages/pandas/core/generic.py\u001b[0m in \u001b[0;36m_set_axis\u001b[0;34m(self, axis, labels)\u001b[0m\n\u001b[1;32m    764\u001b[0m     \u001b[0;32mdef\u001b[0m \u001b[0m_set_axis\u001b[0m\u001b[0;34m(\u001b[0m\u001b[0mself\u001b[0m\u001b[0;34m,\u001b[0m \u001b[0maxis\u001b[0m\u001b[0;34m:\u001b[0m \u001b[0mint\u001b[0m\u001b[0;34m,\u001b[0m \u001b[0mlabels\u001b[0m\u001b[0;34m:\u001b[0m \u001b[0mIndex\u001b[0m\u001b[0;34m)\u001b[0m \u001b[0;34m->\u001b[0m \u001b[0;32mNone\u001b[0m\u001b[0;34m:\u001b[0m\u001b[0;34m\u001b[0m\u001b[0;34m\u001b[0m\u001b[0m\n\u001b[1;32m    765\u001b[0m         \u001b[0mlabels\u001b[0m \u001b[0;34m=\u001b[0m \u001b[0mensure_index\u001b[0m\u001b[0;34m(\u001b[0m\u001b[0mlabels\u001b[0m\u001b[0;34m)\u001b[0m\u001b[0;34m\u001b[0m\u001b[0;34m\u001b[0m\u001b[0m\n\u001b[0;32m--> 766\u001b[0;31m         \u001b[0mself\u001b[0m\u001b[0;34m.\u001b[0m\u001b[0m_mgr\u001b[0m\u001b[0;34m.\u001b[0m\u001b[0mset_axis\u001b[0m\u001b[0;34m(\u001b[0m\u001b[0maxis\u001b[0m\u001b[0;34m,\u001b[0m \u001b[0mlabels\u001b[0m\u001b[0;34m)\u001b[0m\u001b[0;34m\u001b[0m\u001b[0;34m\u001b[0m\u001b[0m\n\u001b[0m\u001b[1;32m    767\u001b[0m         \u001b[0mself\u001b[0m\u001b[0;34m.\u001b[0m\u001b[0m_clear_item_cache\u001b[0m\u001b[0;34m(\u001b[0m\u001b[0;34m)\u001b[0m\u001b[0;34m\u001b[0m\u001b[0;34m\u001b[0m\u001b[0m\n\u001b[1;32m    768\u001b[0m \u001b[0;34m\u001b[0m\u001b[0m\n",
      "\u001b[0;32m/opt/conda/lib/python3.9/site-packages/pandas/core/internals/managers.py\u001b[0m in \u001b[0;36mset_axis\u001b[0;34m(self, axis, new_labels)\u001b[0m\n\u001b[1;32m    214\u001b[0m     \u001b[0;32mdef\u001b[0m \u001b[0mset_axis\u001b[0m\u001b[0;34m(\u001b[0m\u001b[0mself\u001b[0m\u001b[0;34m,\u001b[0m \u001b[0maxis\u001b[0m\u001b[0;34m:\u001b[0m \u001b[0mint\u001b[0m\u001b[0;34m,\u001b[0m \u001b[0mnew_labels\u001b[0m\u001b[0;34m:\u001b[0m \u001b[0mIndex\u001b[0m\u001b[0;34m)\u001b[0m \u001b[0;34m->\u001b[0m \u001b[0;32mNone\u001b[0m\u001b[0;34m:\u001b[0m\u001b[0;34m\u001b[0m\u001b[0;34m\u001b[0m\u001b[0m\n\u001b[1;32m    215\u001b[0m         \u001b[0;31m# Caller is responsible for ensuring we have an Index object.\u001b[0m\u001b[0;34m\u001b[0m\u001b[0;34m\u001b[0m\u001b[0;34m\u001b[0m\u001b[0m\n\u001b[0;32m--> 216\u001b[0;31m         \u001b[0mself\u001b[0m\u001b[0;34m.\u001b[0m\u001b[0m_validate_set_axis\u001b[0m\u001b[0;34m(\u001b[0m\u001b[0maxis\u001b[0m\u001b[0;34m,\u001b[0m \u001b[0mnew_labels\u001b[0m\u001b[0;34m)\u001b[0m\u001b[0;34m\u001b[0m\u001b[0;34m\u001b[0m\u001b[0m\n\u001b[0m\u001b[1;32m    217\u001b[0m         \u001b[0mself\u001b[0m\u001b[0;34m.\u001b[0m\u001b[0maxes\u001b[0m\u001b[0;34m[\u001b[0m\u001b[0maxis\u001b[0m\u001b[0;34m]\u001b[0m \u001b[0;34m=\u001b[0m \u001b[0mnew_labels\u001b[0m\u001b[0;34m\u001b[0m\u001b[0;34m\u001b[0m\u001b[0m\n\u001b[1;32m    218\u001b[0m \u001b[0;34m\u001b[0m\u001b[0m\n",
      "\u001b[0;32m/opt/conda/lib/python3.9/site-packages/pandas/core/internals/base.py\u001b[0m in \u001b[0;36m_validate_set_axis\u001b[0;34m(self, axis, new_labels)\u001b[0m\n\u001b[1;32m     55\u001b[0m \u001b[0;34m\u001b[0m\u001b[0m\n\u001b[1;32m     56\u001b[0m         \u001b[0;32melif\u001b[0m \u001b[0mnew_len\u001b[0m \u001b[0;34m!=\u001b[0m \u001b[0mold_len\u001b[0m\u001b[0;34m:\u001b[0m\u001b[0;34m\u001b[0m\u001b[0;34m\u001b[0m\u001b[0m\n\u001b[0;32m---> 57\u001b[0;31m             raise ValueError(\n\u001b[0m\u001b[1;32m     58\u001b[0m                 \u001b[0;34mf\"Length mismatch: Expected axis has {old_len} elements, new \"\u001b[0m\u001b[0;34m\u001b[0m\u001b[0;34m\u001b[0m\u001b[0m\n\u001b[1;32m     59\u001b[0m                 \u001b[0;34mf\"values have {new_len} elements\"\u001b[0m\u001b[0;34m\u001b[0m\u001b[0;34m\u001b[0m\u001b[0m\n",
      "\u001b[0;31mValueError\u001b[0m: Length mismatch: Expected axis has 10000 elements, new values have 1 elements"
     ]
    }
   ],
   "source": [
    "import pandas as pd\n",
    "data = {\"Returns\": returns, \"Volatility\":stds}\n",
    "portfolios= pd.DataFrame(data)\n",
    "portfolios.index = ['']\n",
    "portfolios"
   ]
  },
  {
   "cell_type": "code",
   "execution_count": 14,
   "id": "5726af7d",
   "metadata": {},
   "outputs": [],
   "source": [
    "import matplotlib.pyplot as plt"
   ]
  },
  {
   "cell_type": "code",
   "execution_count": 15,
   "id": "f3327947",
   "metadata": {},
   "outputs": [
    {
     "data": {
      "image/png": "[encoded data removed]",
      "text/plain": [
       "<Figure size 432x288 with 1 Axes>"
      ]
     },
     "metadata": {
      "needs_background": "light"
     },
     "output_type": "display_data"
    }
   ],
   "source": [
    "plt.scatter(stds,returns,color=\"red\",s=10, alpha=0.5)\n",
    "plt.scatter(min(stds),returns[stds.index(min(stds))], c=\"blue\")\n",
    "plt.title(\"Efficient frontier\")\n",
    "plt.xlabel(\"Portfoliostd\")\n",
    "plt.ylabel(\"Portfolioreturn\")\n",
    "plt.show()"
   ]
  },
  {
   "cell_type": "code",
   "execution_count": 31,
   "id": "7793e1cb",
   "metadata": {},
   "outputs": [
    {
     "data": {
      "text/plain": [
       "array([0.01781192, 0.0316045 , 0.0493349 , 0.18451924, 0.02398626,\n",
       "       0.03646201, 0.20709772, 0.21599658, 0.20563602, 0.02755085])"
      ]
     },
     "execution_count": 31,
     "metadata": {},
     "output_type": "execute_result"
    }
   ],
   "source": [
    "w[stds.index(min(stds))]"
   ]
  },
  {
   "cell_type": "code",
   "execution_count": 34,
   "id": "1c2866fa",
   "metadata": {},
   "outputs": [
    {
     "data": {
      "text/html": [
       "<div>\n",
       "<style scoped>\n",
       "    .dataframe tbody tr th:only-of-type {\n",
       "        vertical-align: middle;\n",
       "    }\n",
       "\n",
       "    .dataframe tbody tr th {\n",
       "        vertical-align: top;\n",
       "    }\n",
       "\n",
       "    .dataframe thead th {\n",
       "        text-align: right;\n",
       "    }\n",
       "</style>\n",
       "<table border=\"1\" class=\"dataframe\">\n",
       "  <thead>\n",
       "    <tr style=\"text-align: right;\">\n",
       "      <th></th>\n",
       "      <th>Returns</th>\n",
       "      <th>Volatility</th>\n",
       "    </tr>\n",
       "  </thead>\n",
       "  <tbody>\n",
       "    <tr>\n",
       "      <th>0</th>\n",
       "      <td>0.001076</td>\n",
       "      <td>0.183376</td>\n",
       "    </tr>\n",
       "    <tr>\n",
       "      <th>1</th>\n",
       "      <td>0.001170</td>\n",
       "      <td>0.190829</td>\n",
       "    </tr>\n",
       "    <tr>\n",
       "      <th>2</th>\n",
       "      <td>0.001030</td>\n",
       "      <td>0.194269</td>\n",
       "    </tr>\n",
       "    <tr>\n",
       "      <th>3</th>\n",
       "      <td>0.000973</td>\n",
       "      <td>0.199268</td>\n",
       "    </tr>\n",
       "    <tr>\n",
       "      <th>4</th>\n",
       "      <td>0.001027</td>\n",
       "      <td>0.173022</td>\n",
       "    </tr>\n",
       "    <tr>\n",
       "      <th>...</th>\n",
       "      <td>...</td>\n",
       "      <td>...</td>\n",
       "    </tr>\n",
       "    <tr>\n",
       "      <th>99995</th>\n",
       "      <td>0.001084</td>\n",
       "      <td>0.188778</td>\n",
       "    </tr>\n",
       "    <tr>\n",
       "      <th>99996</th>\n",
       "      <td>0.001123</td>\n",
       "      <td>0.193960</td>\n",
       "    </tr>\n",
       "    <tr>\n",
       "      <th>99997</th>\n",
       "      <td>0.001092</td>\n",
       "      <td>0.191984</td>\n",
       "    </tr>\n",
       "    <tr>\n",
       "      <th>99998</th>\n",
       "      <td>0.000993</td>\n",
       "      <td>0.188075</td>\n",
       "    </tr>\n",
       "    <tr>\n",
       "      <th>99999</th>\n",
       "      <td>0.001173</td>\n",
       "      <td>0.186611</td>\n",
       "    </tr>\n",
       "  </tbody>\n",
       "</table>\n",
       "<p>100000 rows × 2 columns</p>\n",
       "</div>"
      ],
      "text/plain": [
       "        Returns  Volatility\n",
       "0      0.001076    0.183376\n",
       "1      0.001170    0.190829\n",
       "2      0.001030    0.194269\n",
       "3      0.000973    0.199268\n",
       "4      0.001027    0.173022\n",
       "...         ...         ...\n",
       "99995  0.001084    0.188778\n",
       "99996  0.001123    0.193960\n",
       "99997  0.001092    0.191984\n",
       "99998  0.000993    0.188075\n",
       "99999  0.001173    0.186611\n",
       "\n",
       "[100000 rows x 2 columns]"
      ]
     },
     "execution_count": 34,
     "metadata": {},
     "output_type": "execute_result"
    }
   ],
   "source": []
  },
  {
   "cell_type": "code",
   "execution_count": 25,
   "id": "8d21c14f",
   "metadata": {},
   "outputs": [
    {
     "data": {
      "text/plain": [
       "array([0.01781192, 0.0316045 , 0.0493349 , 0.18451924, 0.02398626,\n",
       "       0.03646201, 0.20709772, 0.21599658, 0.20563602, 0.02755085])"
      ]
     },
     "execution_count": 25,
     "metadata": {},
     "output_type": "execute_result"
    }
   ],
   "source": []
  },
  {
   "cell_type": "code",
   "execution_count": null,
   "id": "848e85ec",
   "metadata": {},
   "outputs": [],
   "source": []
  }
 ],
 "metadata": {
  "language_info": {
   "codemirror_mode": {
    "name": "ipython",
    "version": 3
   },
   "file_extension": ".py",
   "mimetype": "text/x-python",
   "name": "python",
   "nbconvert_exporter": "python",
   "pygments_lexer": "ipython3",
   "version": "3.9.6"
  }
 },
 "nbformat": 4,
 "nbformat_minor": 5
}